{
  "nbformat": 4,
  "nbformat_minor": 0,
  "metadata": {
    "colab": {
      "provenance": [],
      "authorship_tag": "ABX9TyPj6oHGFxiMXIPbc+tgaBbg",
      "include_colab_link": true
    },
    "kernelspec": {
      "name": "python3",
      "display_name": "Python 3"
    },
    "language_info": {
      "name": "python"
    }
  },
  "cells": [
    {
      "cell_type": "markdown",
      "metadata": {
        "id": "view-in-github",
        "colab_type": "text"
      },
      "source": [
        "<a href=\"https://colab.research.google.com/github/AsfaaKhan/google-colab/blob/main/CountDownTimer.ipynb\" target=\"_parent\"><img src=\"https://colab.research.google.com/assets/colab-badge.svg\" alt=\"Open In Colab\"/></a>"
      ]
    },
    {
      "cell_type": "code",
      "execution_count": 1,
      "metadata": {
        "id": "JaBCy23TDv5h",
        "outputId": "62d38cbf-efbe-4199-b2b0-b2ce503dd948",
        "colab": {
          "base_uri": "https://localhost:8080/"
        }
      },
      "outputs": [
        {
          "output_type": "stream",
          "name": "stdout",
          "text": [
            "Enter the time in seconds: 5\n",
            "Timer Completed!\n"
          ]
        }
      ],
      "source": [
        "# CountDown Timer\n",
        "import time\n",
        "from IPython.display import clear_output\n",
        "\n",
        "def countdown(t):\n",
        "  while t:\n",
        "    mins,secs = divmod(t, 60)\n",
        "    timer = '{:02d}:{:02d}'.format(mins,secs)\n",
        "    clear_output(wait=True)\n",
        "    print(timer)\n",
        "    time.sleep(1)\n",
        "    t -= 1\n",
        "\n",
        "  print(\"Timer Completed!\")\n",
        "\n",
        "t = input(\"Enter the time in seconds: \")\n",
        "countdown(int(t))"
      ]
    }
  ]
}