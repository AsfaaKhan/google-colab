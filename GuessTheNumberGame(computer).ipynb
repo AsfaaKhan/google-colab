{
  "nbformat": 4,
  "nbformat_minor": 0,
  "metadata": {
    "colab": {
      "provenance": [],
      "authorship_tag": "ABX9TyN5nEpGioc6CLXiSEK3n0Lu",
      "include_colab_link": true
    },
    "kernelspec": {
      "name": "python3",
      "display_name": "Python 3"
    },
    "language_info": {
      "name": "python"
    }
  },
  "cells": [
    {
      "cell_type": "markdown",
      "metadata": {
        "id": "view-in-github",
        "colab_type": "text"
      },
      "source": [
        "<a href=\"https://colab.research.google.com/github/AsfaaKhan/google-colab/blob/main/GuessTheNumberGame(computer).ipynb\" target=\"_parent\"><img src=\"https://colab.research.google.com/assets/colab-badge.svg\" alt=\"Open In Colab\"/></a>"
      ]
    },
    {
      "cell_type": "code",
      "execution_count": null,
      "metadata": {
        "id": "_qfOfFrWxFq1",
        "colab": {
          "base_uri": "https://localhost:8080/"
        },
        "outputId": "3746e961-f1a9-4419-9dd0-fa6ce7c2e991"
      },
      "outputs": [
        {
          "output_type": "stream",
          "name": "stdout",
          "text": [
            "Guess The Number Game (Computer)\n",
            "Guess a number between 1 and 10: 5\n",
            "Opps! Sorry , guess again , Too high.\n",
            "Guess The Number Game (Computer)\n",
            "Guess a number between 1 and 10: 1\n",
            "Opps! Sorry , guess again , Too low.\n",
            "Guess The Number Game (Computer)\n",
            "Guess a number between 1 and 10: 2\n",
            "Hurry! You have Guessed The Correct Number 2\n"
          ]
        }
      ],
      "source": [
        "import random\n",
        "\n",
        "def guessNumber(num):\n",
        "  random_number = random.randint(1, num)\n",
        "  guess = 0\n",
        "  while guess != random_number:\n",
        "    print(\"Guess The Number Game (Computer)\")\n",
        "    guess = int(input(f\"Guess a number between 1 and {num}: \"))\n",
        "    if guess < random_number:\n",
        "      print(\"Oops! Sorry , guess again , Too low.\")\n",
        "    elif guess > random_number:\n",
        "      print(\"Oops! Sorry , guess again , Too high.\")\n",
        "\n",
        "  print(f\"Hurry! You have Guessed The Correct Number {random_number}\")\n",
        "\n",
        "guessNumber(10)"
      ]
    }
  ]
}