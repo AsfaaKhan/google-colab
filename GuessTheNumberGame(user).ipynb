{
  "nbformat": 4,
  "nbformat_minor": 0,
  "metadata": {
    "colab": {
      "provenance": [],
      "authorship_tag": "ABX9TyOii4FXTcWNwHcEqJo8NQge",
      "include_colab_link": true
    },
    "kernelspec": {
      "name": "python3",
      "display_name": "Python 3"
    },
    "language_info": {
      "name": "python"
    }
  },
  "cells": [
    {
      "cell_type": "markdown",
      "metadata": {
        "id": "view-in-github",
        "colab_type": "text"
      },
      "source": [
        "<a href=\"https://colab.research.google.com/github/AsfaaKhan/google-colab/blob/main/GuessTheNumberGame(user).ipynb\" target=\"_parent\"><img src=\"https://colab.research.google.com/assets/colab-badge.svg\" alt=\"Open In Colab\"/></a>"
      ]
    },
    {
      "cell_type": "code",
      "execution_count": 8,
      "metadata": {
        "id": "YhArd4f9RQc4",
        "colab": {
          "base_uri": "https://localhost:8080/"
        },
        "outputId": "02b545a2-ac11-4d85-8739-cd0980db989d"
      },
      "outputs": [
        {
          "output_type": "stream",
          "name": "stdout",
          "text": [
            "Let computer guess the number! \n",
            "Is 2 too high (H), too low (L) or correct (C)? l\n",
            "Is 6 too high (H), too low (L) or correct (C)? l\n",
            "Is 10 too high (H), too low (L) or correct (C)? h\n",
            "Is 9 too high (H), too low (L) or correct (C)? c\n",
            "Hurry! The Computer gussed your number  9 , correctly!\n"
          ]
        }
      ],
      "source": [
        "import random\n",
        "\n",
        "def computerGuessNumber(num):\n",
        "  low = 1\n",
        "  high = num\n",
        "  feedback = \"\"\n",
        "  print(\"Let computer guess the number! \")\n",
        "  while feedback != \"c\":\n",
        "    guess = random.randint(low, high)\n",
        "    feedback = input(f\"Is {guess} too high (H), too low (L) or correct (C)? \").lower()\n",
        "    if feedback == \"h\":\n",
        "      high = guess - 1\n",
        "    elif feedback == \"l\":\n",
        "      low = guess + 1\n",
        "  print(f\"Hurry! The Computer gussed your number  {guess} , correctly!\")\n",
        "\n",
        "computerGuessNumber(10)\n"
      ]
    }
  ]
}