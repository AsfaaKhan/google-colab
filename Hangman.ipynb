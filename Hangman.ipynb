{
  "nbformat": 4,
  "nbformat_minor": 0,
  "metadata": {
    "colab": {
      "provenance": [],
      "authorship_tag": "ABX9TyO+rlNk0kjSGv6wFqYpgLAl",
      "include_colab_link": true
    },
    "kernelspec": {
      "name": "python3",
      "display_name": "Python 3"
    },
    "language_info": {
      "name": "python"
    }
  },
  "cells": [
    {
      "cell_type": "markdown",
      "metadata": {
        "id": "view-in-github",
        "colab_type": "text"
      },
      "source": [
        "<a href=\"https://colab.research.google.com/github/AsfaaKhan/google-colab/blob/main/Hangman.ipynb\" target=\"_parent\"><img src=\"https://colab.research.google.com/assets/colab-badge.svg\" alt=\"Open In Colab\"/></a>"
      ]
    },
    {
      "cell_type": "code",
      "execution_count": null,
      "metadata": {
        "id": "adLildQ4eFTp"
      },
      "outputs": [],
      "source": [
        "#Hangman Game\n",
        "import random\n",
        "\n",
        "#  Words list from https://www.randomlists.com/data/words.json\n",
        "words = [\"aback\",\"abaft\",\"abandoned\",\"abashed\",\"aberrant\",\"abhorrent\",\"abiding\",\"abject\",\"ablaze\",\"able\",\"abnormal\",\"aboard\",\"aboriginal\",\"abortive\",\"abounding\",\"abrasive\",\"abrupt\",\"absent\",\"absorbed\",\"absorbing\",\"abstracted\",\"absurd\",\"abundant\",\"abusive\",\"accept\",\"acceptable\",\"accessible\",\"accidental\",\"account\",\"accurate\",\"achiever\",\"acid\",\"acidic\",\"acoustic\",\"acoustics\",\"acrid\",\"act\",\"action\",\"activity\",\"actor\",\"actually\",\"ad hoc\",\"adamant\",\"adaptable\",\"add\",\"addicted\",\"addition\",\"adhesive\",\"adjoining\",\"adjustment\",\"admire\",\"admit\",\"adorable\",\"adventurous\",\"advertisement\",\"advice\",\"advise\",\"afford\",\"afraid\",\"aftermath\",\"afternoon\",\"afterthought\",\"aggressive\",\"agonizing\",\"agree\",\"agreeable\",\"agreement\",\"ahead\",\"air\",\"airplane\",\"airport\",\"ajar\",\"alarm\",\"alcoholic\",\"alert\",\"alike\",\"alive\",\"alleged\",\"allow\",\"alluring\",\"aloof\",\"amazing\",\"ambiguous\",\"ambitious\",\"amount\",\"amuck\",\"amuse\",\"amused\",\"amusement\",\"amusing\",\"analyze\",\"ancient\",\"anger\",\"angle\",\"angry\",\"animal\",\"animated\",\"announce\",\"annoy\",\"annoyed\",\"annoying\",\"answer\",\"ants\",\"anxious\",\"apathetic\",\"apologise\",\"apparatus\",\"apparel\",\"appear\",\"applaud\",\"appliance\",\"appreciate\",\"approval\",\"approve\",\"aquatic\",\"arch\",\"argue\",\"argument\",\"arithmetic\",\"arm\",\"army\",\"aromatic\",\"arrange\",\"arrest\",\"arrive\",\"arrogant\",\"art\",\"ashamed\",\"ask\",\"aspiring\",\"assorted\",\"astonishing\",\"attach\",\"attack\",\"attempt\",\"attend\",\"attract\",\"attraction\",\"attractive\",\"aunt\",\"auspicious\",\"authority\",\"automatic\",\"available\",\"average\",\"avoid\",\"awake\",\"aware\",\"awesome\",\"awful\",\"axiomatic\",\"babies\",\"baby\",\"back\",\"bad\",\"badge\",\"bag\",\"bait\",\"bake\",\"balance\",\"ball\",\"ban\",\"bang\",\"barbarous\",\"bare\",\"base\",\"baseball\",\"bashful\",\"basin\",\"basket\",\"basketball\",\"bat\",\"bath\",\"bathe\",\"battle\",\"bawdy\",\"bead\",\"beam\",\"bear\",\"beautiful\",\"bed\",\"bedroom\",\"beds\",\"bee\",\"beef\",\"befitting\",\"beg\",\"beginner\",\"behave\",\"behavior\",\"belief\",\"believe\",\"bell\",\"belligerent\",\"bells\",\"belong\",\"beneficial\",\"bent\",\"berry\",\"berserk\",\"best\",\"better\",\"bewildered\",\"big\",\"bike\",\"bikes\",\"billowy\",\"bird\",\"birds\",\"birth\",\"birthday\",\"bit\",\"bite\",\"bite-sized\",\"bitter\",\"bizarre\",\"black\",\"black-and-white\",\"blade\",\"bleach\",\"bless\",\"blind\",\"blink\",\"blood\",\"bloody\",\"blot\",\"blow\",\"blue\",\"blue-eyed\",\"blush\",\"blushing\",\"board\",\"boast\",\"boat\",\"boil\",\"boiling\",\"bolt\",\"bomb\",\"bone\",\"book\",\"books\",\"boorish\",\"boot\",\"border\",\"bore\",\"bored\",\"boring\",\"borrow\",\"bottle\",\"bounce\",\"bouncy\",\"boundary\",\"boundless\",\"bow\",\"box\",\"boy\",\"brainy\",\"brake\",\"branch\",\"brash\",\"brass\",\"brave\",\"brawny\",\"breakable\",\"breath\",\"breathe\",\"breezy\",\"brick\",\"bridge\",\"brief\",\"bright\",\"broad\",\"broken\",\"brother\",\"brown\",\"bruise\",\"brush\",\"bubble\",\"bucket\",\"building\",\"bulb\",\"bump\",\"bumpy\",\"burly\",\"burn\",\"burst\",\"bury\",\"bushes\",\"business\",\"bustling\",\"busy\",\"butter\",\"button\",\"buzz\",\"cabbage\",\"cable\",\"cactus\",\"cagey\",\"cake\",\"cakes\",\"calculate\",\"calculating\",\"calculator\",\"calendar\",\"call\",\"callous\",\"calm\",\"camera\",\"camp\",\"can\",\"cannon\",\"canvas\",\"cap\"]\n",
        "\n",
        "def get_val_word(words):\n",
        "  word = random.choice(words)  #randomly chooses something from the list of words\n",
        "  while '-' in word or '' in word:\n",
        "    word = random.choice(words)\n",
        "  return word\n",
        "\n",
        "\n",
        "def hungman():\n",
        "  word = get_val_word(words)\n",
        "  word_letters = set(word) # letters in the word\n",
        "  alphabet = set(string.ascii_uppercase)\n",
        "  used_letters = set() # what the user has guessed\n",
        "\n",
        "  #getting user input\n",
        "  while len(word_letters) > 0:\n",
        "    # Letters used\n",
        "    # ' '.join (['a','b', 'cd']) --> 'a b cd'\n",
        "    print(\"You have used these letters already: \", \" \".join(used_letters))\n",
        "\n",
        "    # what current word is (ie W - R D )\n",
        "    word_list = [letter if letter in used_letters else '-' for letter in word]\n",
        "    print(\"Current Word : \", ''.join(word_list))\n",
        "\n",
        "\n",
        "    user_letter = input (\"Guess a letter:\").upper()\n",
        "    if user_letter in alphabet - used_letters:\n",
        "      used_letters.add(user_letter)\n",
        "      if user_letter in word_letters:\n",
        "        word_letters.remove(user_letter)\n",
        "    elif  user_letter in used_letters:\n",
        "      print(\"You have already used that letter. Please try again.\")\n",
        "    else:\n",
        "      print(\"Invalid character. Please try again! \")\n",
        "\n",
        "  # Get here when len(word_letter) == 0\n",
        "\n",
        "hungman()\n",
        "\n"
      ]
    }
  ]
}