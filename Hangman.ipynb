{
  "nbformat": 4,
  "nbformat_minor": 0,
  "metadata": {
    "colab": {
      "provenance": [],
      "authorship_tag": "ABX9TyNPq7FoWjCaJ/DZ4lhqdHDV",
      "include_colab_link": true
    },
    "kernelspec": {
      "name": "python3",
      "display_name": "Python 3"
    },
    "language_info": {
      "name": "python"
    }
  },
  "cells": [
    {
      "cell_type": "markdown",
      "metadata": {
        "id": "view-in-github",
        "colab_type": "text"
      },
      "source": [
        "<a href=\"https://colab.research.google.com/github/AsfaaKhan/google-colab/blob/main/Hangman.ipynb\" target=\"_parent\"><img src=\"https://colab.research.google.com/assets/colab-badge.svg\" alt=\"Open In Colab\"/></a>"
      ]
    },
    {
      "cell_type": "code",
      "execution_count": null,
      "metadata": {
        "id": "adLildQ4eFTp"
      },
      "outputs": [],
      "source": [
        "#Hangman Game\n",
        "import random\n",
        "\n",
        "#  Words list from https://www.randomlists.com/data/words.json\n",
        "words = [\"aback\",\"abaft\",\"abandoned\",\"abashed\",\"aberrant\",\"abhorrent\",\"abiding\",\"abject\",\"ablaze\",\"able\",\"abnormal\",\"aboard\",\"aboriginal\",\"abortive\",\"abounding\",\"abrasive\",\"abrupt\",\"absent\",\"absorbed\",\"absorbing\",\"abstracted\",\"absurd\",\"abundant\",\"abusive\",\"accept\",\"acceptable\",\"accessible\",\"accidental\",\"account\",\"accurate\",\"achiever\",\"acid\",\"acidic\",\"acoustic\",\"acoustics\",\"acrid\",\"act\",\"action\",\"activity\",\"actor\",\"actually\",\"ad hoc\",\"adamant\",\"adaptable\",\"add\",\"addicted\",\"addition\",\"adhesive\",\"adjoining\",\"adjustment\",\"admire\",\"admit\",\"adorable\",\"adventurous\",\"advertisement\",\"advice\",\"advise\",\"afford\",\"afraid\",\"aftermath\",\"afternoon\",\"afterthought\",\"aggressive\",\"agonizing\",\"agree\",\"agreeable\",\"agreement\",\"ahead\",\"air\",\"airplane\",\"airport\",\"ajar\",\"alarm\",\"alcoholic\",\"alert\",\"alike\",\"alive\",\"alleged\",\"allow\",\"alluring\",\"aloof\",\"amazing\",\"ambiguous\",\"ambitious\",\"amount\",\"amuck\",\"amuse\"]\n",
        "\n",
        "def get_val_word(words):\n",
        "  word = random.choice(words)  #randomly chooses something from the list of words\n",
        "  while '-' in word or '' in word:\n",
        "    word = random.choice(words)\n",
        "  return word\n",
        "\n",
        "\n",
        "def hungman():\n",
        "  word = get_val_word(words)\n",
        "  word_letters = set(word) # letters in the word\n",
        "  alphabet = set(string.ascii_uppercase)\n",
        "  used_letters = set() # what the user has guessed\n",
        "\n",
        "  #getting user input\n",
        "  while len(word_letters) > 0:\n",
        "    # Letters used\n",
        "    # ' '.join (['a','b', 'cd']) --> 'a b cd'\n",
        "    print(\"You have used these letters already: \", \" \".join(used_letters))\n",
        "\n",
        "    # what current word is (ie W - R D )\n",
        "    word_list = [letter if letter in used_letters else '-' for letter in word]\n",
        "    print(\"Current Word : \", ''.join(word_list))\n",
        "\n",
        "\n",
        "    user_letter = input (\"Guess a letter:\").upper()\n",
        "    if user_letter in alphabet - used_letters:\n",
        "      used_letters.add(user_letter)\n",
        "      if user_letter in word_letters:\n",
        "        word_letters.remove(user_letter)\n",
        "    elif  user_letter in used_letters:\n",
        "      print(\"You have already used that letter. Please try again.\")\n",
        "    else:\n",
        "      print(\"Invalid character. Please try again! \")\n",
        "\n",
        "  # Get here when len(word_letter) == 0\n",
        "\n",
        "hungman()\n",
        "\n"
      ]
    }
  ]
}