{
  "nbformat": 4,
  "nbformat_minor": 0,
  "metadata": {
    "colab": {
      "provenance": [],
      "authorship_tag": "ABX9TyPLGJ2cJWI2CAFJ/L9NgBi3",
      "include_colab_link": true
    },
    "kernelspec": {
      "name": "python3",
      "display_name": "Python 3"
    },
    "language_info": {
      "name": "python"
    }
  },
  "cells": [
    {
      "cell_type": "markdown",
      "metadata": {
        "id": "view-in-github",
        "colab_type": "text"
      },
      "source": [
        "<a href=\"https://colab.research.google.com/github/AsfaaKhan/google-colab/blob/main/PasswordGeneratorPythonProject.ipynb\" target=\"_parent\"><img src=\"https://colab.research.google.com/assets/colab-badge.svg\" alt=\"Open In Colab\"/></a>"
      ]
    },
    {
      "cell_type": "code",
      "execution_count": 9,
      "metadata": {
        "id": "CdIyAIsvOXxy",
        "colab": {
          "base_uri": "https://localhost:8080/"
        },
        "outputId": "37fff16e-3cd3-4033-d824-0d742e7a679e"
      },
      "outputs": [
        {
          "output_type": "stream",
          "name": "stdout",
          "text": [
            "Numbers of password suggestion? 4\n",
            "Password length? 5\n",
            "Include digits? (y/n): y\n",
            "Include special charcters? (y/n): t\n",
            "❌ Invalid input. Please enter 'y' or 'n' \n",
            "Include special charcters? (y/n): y\n",
            "\n",
            "✅Password Generate! \n",
            "====================\n",
            "eokt|\n",
            "(_j$#\n",
            "+a/;c\n",
            "`ow/j\n"
          ]
        }
      ],
      "source": [
        "# Password Generator\n",
        "import string\n",
        "import random\n",
        "import re\n",
        "\n",
        "\n",
        "def generate_password(length,use_digits,use_special_char):\n",
        "  characters = string.ascii_letters.lower()\n",
        "\n",
        "  if use_digits:\n",
        "    characters += string.digits\n",
        "\n",
        "  if use_special_char:\n",
        "    characters += string.punctuation\n",
        "\n",
        "  return ''.join(random.choice(characters) for _ in range(length))\n",
        "\n",
        "\n",
        "while True:\n",
        "  try:\n",
        "    password_num : int = int(input(\"Numbers of password suggestion? \"))\n",
        "    break\n",
        "  except ValueError:\n",
        "    print(\"❌ Only use numbers!\")\n",
        "\n",
        "\n",
        "while True:\n",
        "  try:\n",
        "    password_len : int = int(input(\"Password length? \"))\n",
        "    break\n",
        "  except ValueError:\n",
        "    print(\"❌ Only use numbers!\")\n",
        "\n",
        "\n",
        "while True:\n",
        "    use_digits = str(input(\"Include digits? (y/n): \").lower())\n",
        "    if use_digits in ['y','n']:\n",
        "      break\n",
        "    else:\n",
        "      print(\"invalid input. Please enter 'y' or 'n' \")\n",
        "\n",
        "\n",
        "while True:\n",
        "\n",
        "    use_special_char = str(input(\"Include special charcters? (y/n): \").lower())\n",
        "    if use_special_char  in ['y', 'n']:\n",
        "      break\n",
        "    else:\n",
        "      print(\"❌ Invalid input. Please enter 'y' or 'n' \")\n",
        "\n",
        "\n",
        "use_digits = use_digits == 'y'\n",
        "use_special_char = use_special_char == 'y'\n",
        "\n",
        "print(\"\\n✅Password Generate! \")\n",
        "print(20*\"=\")\n",
        "\n",
        "for _ in range(password_num):\n",
        "  password = generate_password(password_len,use_digits, use_special_char)\n",
        "  print(password)\n"
      ]
    },
    {
      "cell_type": "markdown",
      "source": [],
      "metadata": {
        "id": "jO-31HXODOg0"
      }
    }
  ]
}