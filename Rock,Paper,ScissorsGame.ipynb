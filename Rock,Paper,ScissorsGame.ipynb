{
  "nbformat": 4,
  "nbformat_minor": 0,
  "metadata": {
    "colab": {
      "provenance": [],
      "authorship_tag": "ABX9TyPUXi2Of6MLHDIF0zToTwjq",
      "include_colab_link": true
    },
    "kernelspec": {
      "name": "python3",
      "display_name": "Python 3"
    },
    "language_info": {
      "name": "python"
    }
  },
  "cells": [
    {
      "cell_type": "markdown",
      "metadata": {
        "id": "view-in-github",
        "colab_type": "text"
      },
      "source": [
        "<a href=\"https://colab.research.google.com/github/AsfaaKhan/google-colab/blob/main/Rock%2CPaper%2CScissorsGame.ipynb\" target=\"_parent\"><img src=\"https://colab.research.google.com/assets/colab-badge.svg\" alt=\"Open In Colab\"/></a>"
      ]
    },
    {
      "cell_type": "code",
      "execution_count": null,
      "metadata": {
        "id": "3j3SLHiWZWb3"
      },
      "outputs": [],
      "source": [
        "import random\n",
        "\n",
        "def play():\n",
        "  user = input(\"What is your choice? 'r' for Rock, 'p' for paper, 's' for scissors\\n \")\n",
        "  computer = random.choice(['r','p','s'])\n",
        "  if user == computer:\n",
        "    return \"It's a tie\"\n",
        "  # r > s, s > p, p > r\n",
        "  if is_win(user, computer):\n",
        "    return \"Hurry! You Won!\"\n",
        "  return \"Oops! You lost!\"\n",
        "\n",
        "\n",
        "def is_win(player, opponent):\n",
        "  # return true if player wins\n",
        "  # r > s, s > p, p > r\n",
        "  if (player == 'r' and opponent == 's') or (player == 's' and opponent == 'p') or (player == 'p' and opponent == 'r'):\n",
        "    return True\n",
        "\n",
        "\n",
        "print(play())"
      ]
    }
  ]
}