{
  "nbformat": 4,
  "nbformat_minor": 0,
  "metadata": {
    "colab": {
      "provenance": [],
      "authorship_tag": "ABX9TyPqyh55MLRYef6FvH9GtQY+",
      "include_colab_link": true
    },
    "kernelspec": {
      "name": "python3",
      "display_name": "Python 3"
    },
    "language_info": {
      "name": "python"
    }
  },
  "cells": [
    {
      "cell_type": "markdown",
      "metadata": {
        "id": "view-in-github",
        "colab_type": "text"
      },
      "source": [
        "<a href=\"https://colab.research.google.com/github/AsfaaKhan/google-colab/blob/main/project1.ipynb\" target=\"_parent\"><img src=\"https://colab.research.google.com/assets/colab-badge.svg\" alt=\"Open In Colab\"/></a>"
      ]
    },
    {
      "cell_type": "code",
      "execution_count": 2,
      "metadata": {
        "id": "_qfOfFrWxFq1",
        "colab": {
          "base_uri": "https://localhost:8080/"
        },
        "outputId": "6b701988-bdca-4982-add3-45019fe17b42"
      },
      "outputs": [
        {
          "output_type": "stream",
          "name": "stdout",
          "text": [
            "Adjective: pretty\n",
            "Noun: its\n",
            "Body part: hand\n",
            "Body part: foot\n",
            "Verb: dry\n",
            "A pretty glow burst suddenly across the enchanted sky above them as an edge of drizzling sun appered over the sill of the nearest mask . The Light hit both of their hand at the same time, so that Angelina's was suddenly a flaming its.\n",
            " Also injured her foot badly.\n"
          ]
        }
      ],
      "source": [
        "\n",
        "adj = input(\"Adjective: \")\n",
        "noun = input(\"Noun: \")\n",
        "body_part1 = input(\"Body part: \")\n",
        "body_part2 = input(\"Body part: \")\n",
        "verb = input(\"Verb: \")\n",
        "\n",
        "\n",
        "\n",
        "\n",
        "madlib = f\"A {adj} glow burst suddenly across the enchanted sky above them as an edge of drizzling sun appered over the sill of the nearest mask . The Light hit both of their {body_part1} at the same time, so that Angelina's was suddenly a flaming {noun}.\\n Also injured her {body_part2} badly.\"\n",
        "print(madlib)\n",
        "\n"
      ]
    }
  ]
}