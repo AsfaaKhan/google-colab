{
  "nbformat": 4,
  "nbformat_minor": 0,
  "metadata": {
    "colab": {
      "provenance": [],
      "authorship_tag": "ABX9TyNHA1vxSbtgtaYq+g2NzMpD",
      "include_colab_link": true
    },
    "kernelspec": {
      "name": "python3",
      "display_name": "Python 3"
    },
    "language_info": {
      "name": "python"
    }
  },
  "cells": [
    {
      "cell_type": "markdown",
      "metadata": {
        "id": "view-in-github",
        "colab_type": "text"
      },
      "source": [
        "<a href=\"https://colab.research.google.com/github/AsfaaKhan/google-colab/blob/main/project1.ipynb\" target=\"_parent\"><img src=\"https://colab.research.google.com/assets/colab-badge.svg\" alt=\"Open In Colab\"/></a>"
      ]
    },
    {
      "cell_type": "code",
      "execution_count": null,
      "metadata": {
        "id": "_qfOfFrWxFq1",
        "outputId": "adffbab5-b77c-4240-b66f-122c0597bd91",
        "colab": {
          "base_uri": "https://localhost:8080/"
        }
      },
      "outputs": [
        {
          "name": "stdout",
          "output_type": "stream",
          "text": [
            "Adjective: pretty\n",
            "Noun: She\n",
            "Noun: It\n",
            "Noun plural: Fingers\n",
            "Body part: hand\n",
            "Body part: foot\n"
          ]
        }
      ],
      "source": [
        "# channel = \"Asfaa Khan\"\n",
        "# print(\"Subscribe to the channel of \"+channel+\".\")\n",
        "# print(f\"Subscribe to the channel of {channel}.\")\n",
        "# print(\"Subscribe to the channel of {}\".format(channel)+\".\")\n",
        "\n",
        "adj = input(\"Adjective: \")\n",
        "noun1 = input(\"Noun: \")\n",
        "noun2 = input(\"Noun: \")\n",
        "noun_plural = input(\"Noun plural: \")\n",
        "body_part1 = input(\"Body part: \")\n",
        "body_part2 = input(\"Body part: \")\n",
        "verb = input(\"Verb: \")\n",
        "verb_past1 = input(\"Verb (past tense): \")\n",
        "verb_past2 = input(\"Verb (past tense): \")\n",
        "spell : input(\"Spell: \")\n",
        "\n",
        "\n",
        "\n",
        "madlib = f\"A {adj} glow burst suddenly across the enchanted sky above them as an edge of drizzling sun appered over the sill of the nearest mask . The Light hit both of their {body_part1} at the same time, so that Angelina's was suddenly a flaming {noun1}.\\n \"\n",
        "\n",
        "\n"
      ]
    }
  ]
}